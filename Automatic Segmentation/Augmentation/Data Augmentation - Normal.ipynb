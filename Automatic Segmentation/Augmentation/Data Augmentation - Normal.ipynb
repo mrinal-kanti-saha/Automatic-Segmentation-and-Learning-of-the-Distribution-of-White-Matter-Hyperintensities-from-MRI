{
 "cells": [
  {
   "cell_type": "code",
   "execution_count": 9,
   "id": "a7fc661c",
   "metadata": {},
   "outputs": [],
   "source": [
    "import albumentations as A\n",
    "import cv2\n",
    "\n",
    "rotate     = A.Compose([\n",
    "        A.Rotate(10, border_mode=cv2.BORDER_REPLICATE, always_apply=True),\n",
    "    ],\n",
    "    additional_targets={'image2': 'image'}\n",
    ")\n",
    "\n",
    "shear      = A.Compose([\n",
    "        A.Affine(shear=(-10,10), always_apply=True, mode=1),\n",
    "    ],\n",
    "    additional_targets={'image2': 'image'}\n",
    ")\n",
    "\n",
    "scale      = A.Compose([\n",
    "        A.Affine(scale=(0.9,1.1), always_apply=True, mode=1),\n",
    "    ],\n",
    "    additional_targets={'image2': 'image'}\n",
    ")\n",
    "\n",
    "horizontal = A.Compose([\n",
    "        A.HorizontalFlip(always_apply=True),\n",
    "    ],\n",
    "    additional_targets={'image2': 'image'}\n",
    ")"
   ]
  },
  {
   "cell_type": "code",
   "execution_count": 10,
   "id": "5aa72042",
   "metadata": {},
   "outputs": [],
   "source": [
    "aug_list = [\n",
    "    rotate,\n",
    "    shear,\n",
    "    scale,\n",
    "    horizontal\n",
    "]\n",
    "compulsory_aug = A.Compose(\n",
    "    [\n",
    "        A.NoOp(always_apply=True)\n",
    "    ],\n",
    "    additional_targets={'image2': 'image'}\n",
    ")"
   ]
  },
  {
   "cell_type": "code",
   "execution_count": 5,
   "id": "685c1bc0",
   "metadata": {},
   "outputs": [],
   "source": [
    "import os \n",
    "import numpy as np\n",
    "from tqdm import tqdm\n",
    "\n",
    "def augment_images(input_path, compulsory_aug, other_augs, output_path='/home/msc2/DATA/train'):\n",
    "    input_path_list = [i for i in sorted(os.listdir(input_path)) if 'flair' in i]\n",
    "    for path in tqdm(input_path_list, 'Images : '):\n",
    "        full_path = os.path.join(input_path, path)\n",
    "        full_t1_path    = full_path[:-9] + 't1.npy'\n",
    "        full_flair_path = full_path\n",
    "        full_mask_path  = full_path[:-9] + 'mask.npy'\n",
    "        \n",
    "        t1        = np.load(full_t1_path)\n",
    "        flair     = np.load(full_flair_path)\n",
    "        mask      = np.load(full_mask_path)\n",
    "        \n",
    "        # compulsory augs\n",
    "        dict_ = compulsory_aug(image=flair, image2=t1, mask=mask)\n",
    "        t1    = dict_['image2']\n",
    "        flair = dict_['image']\n",
    "        mask  = dict_['mask']\n",
    "        \n",
    "        if not os.path.exists(output_path):\n",
    "            os.mkdir(output_path)\n",
    "        \n",
    "        # saving these transformed images and masks\n",
    "        file_name = output_path + '/' + path[:-9]\n",
    "        np.save(file_name + 'aug0_t1.npy', t1)\n",
    "        np.save(file_name + 'aug0_flair.npy', flair)\n",
    "        np.save(file_name + 'aug0_mask.npy', mask)\n",
    "        # other augs\n",
    "        i=1\n",
    "        for aug in other_augs:\n",
    "            dict_ = aug(image=flair, image2=t1, mask=mask)\n",
    "            t1_aug    = dict_['image2']\n",
    "            flair_aug = dict_['image']\n",
    "            mask_aug  = dict_['mask']\n",
    "            # saving these transformed images and masks\n",
    "            np.save(file_name + f'aug{i}_t1.npy', t1_aug)\n",
    "            np.save(file_name + f'aug{i}_flair.npy', flair_aug)\n",
    "            np.save(file_name + f'aug{i}_mask.npy', mask_aug)\n",
    "            i+=1"
   ]
  },
  {
   "cell_type": "code",
   "execution_count": 6,
   "id": "c7b75ec0",
   "metadata": {},
   "outputs": [
    {
     "name": "stderr",
     "output_type": "stream",
     "text": [
      "Images : 100%|██████████████████████████████| 2969/2969 [03:27<00:00, 14.31it/s]\n"
     ]
    }
   ],
   "source": [
    "augment_images('/home/msc2/DATA/Slices/train_vbnet', compulsory_aug, aug_list)"
   ]
  },
  {
   "cell_type": "code",
   "execution_count": 8,
   "id": "1089d2b1",
   "metadata": {},
   "outputs": [
    {
     "ename": "FileNotFoundError",
     "evalue": "[Errno 2] No such file or directory: '/home/msc2/DATA/Slices/train/amst_100_IMG0035_t1.npy'",
     "output_type": "error",
     "traceback": [
      "\u001b[0;31m---------------------------------------------------------------------------\u001b[0m",
      "\u001b[0;31mFileNotFoundError\u001b[0m                         Traceback (most recent call last)",
      "Cell \u001b[0;32mIn[8], line 2\u001b[0m\n\u001b[1;32m      1\u001b[0m \u001b[38;5;28;01mimport\u001b[39;00m \u001b[38;5;21;01mmatplotlib\u001b[39;00m\u001b[38;5;21;01m.\u001b[39;00m\u001b[38;5;21;01mpyplot\u001b[39;00m \u001b[38;5;28;01mas\u001b[39;00m \u001b[38;5;21;01mplt\u001b[39;00m\n\u001b[0;32m----> 2\u001b[0m image \u001b[38;5;241m=\u001b[39m \u001b[43mnp\u001b[49m\u001b[38;5;241;43m.\u001b[39;49m\u001b[43mload\u001b[49m\u001b[43m(\u001b[49m\u001b[38;5;124;43m'\u001b[39;49m\u001b[38;5;124;43m/home/msc2/DATA/Slices/train/amst_100_IMG0035_t1.npy\u001b[39;49m\u001b[38;5;124;43m'\u001b[39;49m\u001b[43m)\u001b[49m\n\u001b[1;32m      3\u001b[0m aug   \u001b[38;5;241m=\u001b[39m np\u001b[38;5;241m.\u001b[39mload(\u001b[38;5;124m'\u001b[39m\u001b[38;5;124m/home/msc2/DATA/train/amst_100_IMG0035_aug4_t1.npy\u001b[39m\u001b[38;5;124m'\u001b[39m)\n\u001b[1;32m      5\u001b[0m fig, (ax1, ax2) \u001b[38;5;241m=\u001b[39m plt\u001b[38;5;241m.\u001b[39msubplots(nrows\u001b[38;5;241m=\u001b[39m\u001b[38;5;241m1\u001b[39m, ncols\u001b[38;5;241m=\u001b[39m\u001b[38;5;241m2\u001b[39m, figsize\u001b[38;5;241m=\u001b[39m(\u001b[38;5;241m8\u001b[39m,\u001b[38;5;241m3\u001b[39m), sharex\u001b[38;5;241m=\u001b[39m\u001b[38;5;28;01mTrue\u001b[39;00m, sharey\u001b[38;5;241m=\u001b[39m\u001b[38;5;28;01mTrue\u001b[39;00m)\n",
      "File \u001b[0;32m~/.local/lib/python3.8/site-packages/numpy/lib/npyio.py:405\u001b[0m, in \u001b[0;36mload\u001b[0;34m(file, mmap_mode, allow_pickle, fix_imports, encoding, max_header_size)\u001b[0m\n\u001b[1;32m    403\u001b[0m     own_fid \u001b[38;5;241m=\u001b[39m \u001b[38;5;28;01mFalse\u001b[39;00m\n\u001b[1;32m    404\u001b[0m \u001b[38;5;28;01melse\u001b[39;00m:\n\u001b[0;32m--> 405\u001b[0m     fid \u001b[38;5;241m=\u001b[39m stack\u001b[38;5;241m.\u001b[39menter_context(\u001b[38;5;28;43mopen\u001b[39;49m\u001b[43m(\u001b[49m\u001b[43mos_fspath\u001b[49m\u001b[43m(\u001b[49m\u001b[43mfile\u001b[49m\u001b[43m)\u001b[49m\u001b[43m,\u001b[49m\u001b[43m \u001b[49m\u001b[38;5;124;43m\"\u001b[39;49m\u001b[38;5;124;43mrb\u001b[39;49m\u001b[38;5;124;43m\"\u001b[39;49m\u001b[43m)\u001b[49m)\n\u001b[1;32m    406\u001b[0m     own_fid \u001b[38;5;241m=\u001b[39m \u001b[38;5;28;01mTrue\u001b[39;00m\n\u001b[1;32m    408\u001b[0m \u001b[38;5;66;03m# Code to distinguish from NumPy binary files and pickles.\u001b[39;00m\n",
      "\u001b[0;31mFileNotFoundError\u001b[0m: [Errno 2] No such file or directory: '/home/msc2/DATA/Slices/train/amst_100_IMG0035_t1.npy'"
     ]
    }
   ],
   "source": [
    "import matplotlib.pyplot as plt\n",
    "image = np.load('/home/msc2/DATA/Slices/train/amst_100_IMG0035_t1.npy')\n",
    "aug   = np.load('/home/msc2/DATA/train/amst_100_IMG0035_aug4_t1.npy')\n",
    "\n",
    "fig, (ax1, ax2) = plt.subplots(nrows=1, ncols=2, figsize=(8,3), sharex=True, sharey=True)\n",
    "for aa in (ax1, ax2):\n",
    "    aa.set_axis_off()\n",
    "\n",
    "ax1.imshow(image, cmap='gray')\n",
    "ax1.set_title('Source')\n",
    "ax2.imshow(aug, cmap='gray')\n",
    "ax2.set_title('Augmented')"
   ]
  },
  {
   "cell_type": "markdown",
   "id": "87b0892a",
   "metadata": {},
   "source": [
    "# The End"
   ]
  }
 ],
 "metadata": {
  "kernelspec": {
   "display_name": "Python 3 (ipykernel)",
   "language": "python",
   "name": "python3"
  },
  "language_info": {
   "codemirror_mode": {
    "name": "ipython",
    "version": 3
   },
   "file_extension": ".py",
   "mimetype": "text/x-python",
   "name": "python",
   "nbconvert_exporter": "python",
   "pygments_lexer": "ipython3",
   "version": "3.8.10"
  }
 },
 "nbformat": 4,
 "nbformat_minor": 5
}
