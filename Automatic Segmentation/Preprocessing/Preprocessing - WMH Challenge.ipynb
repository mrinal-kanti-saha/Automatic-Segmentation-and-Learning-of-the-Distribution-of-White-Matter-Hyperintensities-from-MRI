{
 "cells": [
  {
   "cell_type": "markdown",
   "id": "73c26f07",
   "metadata": {},
   "source": [
    "## Preprocessing WMH Challenge Dataset\n",
    "The images here are already bias corrected and co-registered. To further the preprocessing, we now skull strip the images using FSL BET and run this as a subprocess through nipype."
   ]
  },
  {
   "cell_type": "code",
   "execution_count": 34,
   "id": "c4252c0e",
   "metadata": {},
   "outputs": [],
   "source": [
    "import os\n",
    "\n",
    "def replace_spaces(path):\n",
    "    # Iterate over all files and directories in the given path\n",
    "    for filename in os.listdir(path):\n",
    "        # Construct the full path of the current item\n",
    "        full_path = os.path.join(path, filename)\n",
    "        \n",
    "        # If the item is a file or directory with spaces in the name, rename it\n",
    "        if ' ' in filename:\n",
    "            new_filename = filename.replace(' ', '_')\n",
    "            new_full_path = os.path.join(path, new_filename)\n",
    "            os.rename(full_path, new_full_path)\n",
    "            full_path = new_full_path  # Update full path with new name\n",
    "        \n",
    "        # If the item is a directory, recurse into it\n",
    "        if os.path.isdir(full_path):\n",
    "            replace_spaces(full_path)"
   ]
  },
  {
   "cell_type": "code",
   "execution_count": 35,
   "id": "b7bb3fc6",
   "metadata": {},
   "outputs": [],
   "source": [
    "# Call the replace_spaces function with the root directory\n",
    "root_dir = '/home/msc2/Documents/Data/WMH_Dataset/'\n",
    "replace_spaces(root_dir)"
   ]
  },
  {
   "cell_type": "code",
   "execution_count": null,
   "id": "749f2de2",
   "metadata": {
    "scrolled": true
   },
   "outputs": [],
   "source": [
    "input_dirs = [root for root,_,_ in os.walk('/home/msc2/Documents/Data/WMH_Dataset/') if 'pre' in root]\n",
    "input_files = []\n",
    "for in_dir in input_dirs:\n",
    "    input_files.append([os.path.join(in_dir, file) for file in os.listdir(in_dir) if 'FLAIR' in file])\n",
    "input_files = [file for sublist in input_files for file in sublist]"
   ]
  },
  {
   "cell_type": "code",
   "execution_count": 37,
   "id": "6183baf0",
   "metadata": {
    "scrolled": true
   },
   "outputs": [
    {
     "name": "stderr",
     "output_type": "stream",
     "text": [
      "\r",
      "Cases :   0%|                                            | 0/60 [00:00<?, ?it/s]"
     ]
    },
    {
     "name": "stdout",
     "output_type": "stream",
     "text": [
      "230409-22:35:57,303 nipype.workflow INFO:\n",
      "\t Workflow challenge_BET_workflow settings: ['check', 'execution', 'logging', 'monitoring']\n",
      "230409-22:35:57,305 nipype.workflow INFO:\n",
      "\t Running serially.\n",
      "230409-22:35:57,306 nipype.workflow INFO:\n",
      "\t [Node] Setting-up \"challenge_BET_workflow.flair_bet\" in \"/tmp/tmpvr8udt26/challenge_BET_workflow/flair_bet\".\n",
      "230409-22:35:57,308 nipype.workflow INFO:\n",
      "\t [Node] Executing \"flair_bet\" <nipype.interfaces.fsl.preprocess.BET>\n",
      "230409-22:35:59,545 nipype.workflow INFO:\n",
      "\t [Node] Finished \"flair_bet\", elapsed time 2.236296s.\n"
     ]
    },
    {
     "name": "stderr",
     "output_type": "stream",
     "text": [
      "\r",
      "Cases :   2%|▌                                   | 1/60 [00:02<02:12,  2.25s/it]"
     ]
    },
    {
     "name": "stdout",
     "output_type": "stream",
     "text": [
      "230409-22:35:59,548 nipype.workflow INFO:\n",
      "\t Workflow challenge_BET_workflow settings: ['check', 'execution', 'logging', 'monitoring']\n",
      "230409-22:35:59,551 nipype.workflow INFO:\n",
      "\t Running serially.\n",
      "230409-22:35:59,551 nipype.workflow INFO:\n",
      "\t [Node] Setting-up \"challenge_BET_workflow.flair_bet\" in \"/tmp/tmpddpdove7/challenge_BET_workflow/flair_bet\".\n",
      "230409-22:35:59,554 nipype.workflow INFO:\n",
      "\t [Node] Executing \"flair_bet\" <nipype.interfaces.fsl.preprocess.BET>\n",
      "230409-22:36:01,891 nipype.workflow INFO:\n",
      "\t [Node] Finished \"flair_bet\", elapsed time 2.335469s.\n"
     ]
    },
    {
     "name": "stderr",
     "output_type": "stream",
     "text": [
      "\r",
      "Cases :   3%|█▏                                  | 2/60 [00:04<02:13,  2.30s/it]"
     ]
    },
    {
     "name": "stdout",
     "output_type": "stream",
     "text": [
      "230409-22:36:01,894 nipype.workflow INFO:\n",
      "\t Workflow challenge_BET_workflow settings: ['check', 'execution', 'logging', 'monitoring']\n",
      "230409-22:36:01,897 nipype.workflow INFO:\n",
      "\t Running serially.\n",
      "230409-22:36:01,898 nipype.workflow INFO:\n",
      "\t [Node] Setting-up \"challenge_BET_workflow.flair_bet\" in \"/tmp/tmpziipg6uu/challenge_BET_workflow/flair_bet\".\n",
      "230409-22:36:01,900 nipype.workflow INFO:\n",
      "\t [Node] Executing \"flair_bet\" <nipype.interfaces.fsl.preprocess.BET>\n",
      "230409-22:36:04,106 nipype.workflow INFO:\n",
      "\t [Node] Finished \"flair_bet\", elapsed time 2.204524s.\n"
     ]
    },
    {
     "name": "stderr",
     "output_type": "stream",
     "text": [
      "\r",
      "Cases :   5%|█▊                                  | 3/60 [00:06<02:09,  2.26s/it]"
     ]
    },
    {
     "name": "stdout",
     "output_type": "stream",
     "text": [
      "230409-22:36:04,109 nipype.workflow INFO:\n",
      "\t Workflow challenge_BET_workflow settings: ['check', 'execution', 'logging', 'monitoring']\n",
      "230409-22:36:04,112 nipype.workflow INFO:\n",
      "\t Running serially.\n",
      "230409-22:36:04,113 nipype.workflow INFO:\n",
      "\t [Node] Setting-up \"challenge_BET_workflow.flair_bet\" in \"/tmp/tmpg4ph_n09/challenge_BET_workflow/flair_bet\".\n",
      "230409-22:36:04,115 nipype.workflow INFO:\n",
      "\t [Node] Executing \"flair_bet\" <nipype.interfaces.fsl.preprocess.BET>\n",
      "230409-22:36:06,384 nipype.workflow INFO:\n",
      "\t [Node] Finished \"flair_bet\", elapsed time 2.267216s.\n"
     ]
    },
    {
     "name": "stderr",
     "output_type": "stream",
     "text": [
      "\r",
      "Cases :   7%|██▍                                 | 4/60 [00:09<02:07,  2.27s/it]"
     ]
    },
    {
     "name": "stdout",
     "output_type": "stream",
     "text": [
      "230409-22:36:06,387 nipype.workflow INFO:\n",
      "\t Workflow challenge_BET_workflow settings: ['check', 'execution', 'logging', 'monitoring']\n",
      "230409-22:36:06,392 nipype.workflow INFO:\n",
      "\t Running serially.\n",
      "230409-22:36:06,392 nipype.workflow INFO:\n",
      "\t [Node] Setting-up \"challenge_BET_workflow.flair_bet\" in \"/tmp/tmpg6oew2vv/challenge_BET_workflow/flair_bet\".\n",
      "230409-22:36:06,395 nipype.workflow INFO:\n",
      "\t [Node] Executing \"flair_bet\" <nipype.interfaces.fsl.preprocess.BET>\n",
      "230409-22:36:08,639 nipype.workflow INFO:\n",
      "\t [Node] Finished \"flair_bet\", elapsed time 2.243333s.\n"
     ]
    },
    {
     "name": "stderr",
     "output_type": "stream",
     "text": [
      "\r",
      "Cases :   8%|███                                 | 5/60 [00:11<02:04,  2.26s/it]"
     ]
    },
    {
     "name": "stdout",
     "output_type": "stream",
     "text": [
      "230409-22:36:08,642 nipype.workflow INFO:\n",
      "\t Workflow challenge_BET_workflow settings: ['check', 'execution', 'logging', 'monitoring']\n",
      "230409-22:36:08,645 nipype.workflow INFO:\n",
      "\t Running serially.\n",
      "230409-22:36:08,646 nipype.workflow INFO:\n",
      "\t [Node] Setting-up \"challenge_BET_workflow.flair_bet\" in \"/tmp/tmpt0qelx20/challenge_BET_workflow/flair_bet\".\n",
      "230409-22:36:08,648 nipype.workflow INFO:\n",
      "\t [Node] Executing \"flair_bet\" <nipype.interfaces.fsl.preprocess.BET>\n",
      "230409-22:36:10,868 nipype.workflow INFO:\n",
      "\t [Node] Finished \"flair_bet\", elapsed time 2.21916s.\n"
     ]
    },
    {
     "name": "stderr",
     "output_type": "stream",
     "text": [
      "\r",
      "Cases :  10%|███▌                                | 6/60 [00:13<02:01,  2.25s/it]"
     ]
    },
    {
     "name": "stdout",
     "output_type": "stream",
     "text": [
      "230409-22:36:10,872 nipype.workflow INFO:\n",
      "\t Workflow challenge_BET_workflow settings: ['check', 'execution', 'logging', 'monitoring']\n",
      "230409-22:36:10,875 nipype.workflow INFO:\n",
      "\t Running serially.\n",
      "230409-22:36:10,876 nipype.workflow INFO:\n",
      "\t [Node] Setting-up \"challenge_BET_workflow.flair_bet\" in \"/tmp/tmpptjq0xdt/challenge_BET_workflow/flair_bet\".\n",
      "230409-22:36:10,878 nipype.workflow INFO:\n",
      "\t [Node] Executing \"flair_bet\" <nipype.interfaces.fsl.preprocess.BET>\n",
      "230409-22:36:13,105 nipype.workflow INFO:\n",
      "\t [Node] Finished \"flair_bet\", elapsed time 2.226746s.\n"
     ]
    },
    {
     "name": "stderr",
     "output_type": "stream",
     "text": [
      "\r",
      "Cases :  12%|████▏                               | 7/60 [00:15<01:59,  2.25s/it]"
     ]
    },
    {
     "name": "stdout",
     "output_type": "stream",
     "text": [
      "230409-22:36:13,108 nipype.workflow INFO:\n",
      "\t Workflow challenge_BET_workflow settings: ['check', 'execution', 'logging', 'monitoring']\n",
      "230409-22:36:13,112 nipype.workflow INFO:\n",
      "\t Running serially.\n",
      "230409-22:36:13,112 nipype.workflow INFO:\n",
      "\t [Node] Setting-up \"challenge_BET_workflow.flair_bet\" in \"/tmp/tmpsehhrw5d/challenge_BET_workflow/flair_bet\".\n",
      "230409-22:36:13,114 nipype.workflow INFO:\n",
      "\t [Node] Executing \"flair_bet\" <nipype.interfaces.fsl.preprocess.BET>\n",
      "230409-22:36:15,505 nipype.workflow INFO:\n",
      "\t [Node] Finished \"flair_bet\", elapsed time 2.390014s.\n"
     ]
    },
    {
     "name": "stderr",
     "output_type": "stream",
     "text": [
      "\r",
      "Cases :  13%|████▊                               | 8/60 [00:18<01:59,  2.30s/it]"
     ]
    },
    {
     "name": "stdout",
     "output_type": "stream",
     "text": [
      "230409-22:36:15,509 nipype.workflow INFO:\n",
      "\t Workflow challenge_BET_workflow settings: ['check', 'execution', 'logging', 'monitoring']\n",
      "230409-22:36:15,514 nipype.workflow INFO:\n",
      "\t Running serially.\n",
      "230409-22:36:15,515 nipype.workflow INFO:\n",
      "\t [Node] Setting-up \"challenge_BET_workflow.flair_bet\" in \"/tmp/tmpol1ljrhx/challenge_BET_workflow/flair_bet\".\n",
      "230409-22:36:15,517 nipype.workflow INFO:\n",
      "\t [Node] Executing \"flair_bet\" <nipype.interfaces.fsl.preprocess.BET>\n",
      "230409-22:36:17,917 nipype.workflow INFO:\n",
      "\t [Node] Finished \"flair_bet\", elapsed time 2.398088s.\n"
     ]
    },
    {
     "name": "stderr",
     "output_type": "stream",
     "text": [
      "\r",
      "Cases :  15%|█████▍                              | 9/60 [00:20<01:58,  2.33s/it]"
     ]
    },
    {
     "name": "stdout",
     "output_type": "stream",
     "text": [
      "230409-22:36:17,920 nipype.workflow INFO:\n",
      "\t Workflow challenge_BET_workflow settings: ['check', 'execution', 'logging', 'monitoring']\n",
      "230409-22:36:17,924 nipype.workflow INFO:\n",
      "\t Running serially.\n",
      "230409-22:36:17,925 nipype.workflow INFO:\n",
      "\t [Node] Setting-up \"challenge_BET_workflow.flair_bet\" in \"/tmp/tmp_5iq5ynh/challenge_BET_workflow/flair_bet\".\n",
      "230409-22:36:17,928 nipype.workflow INFO:\n",
      "\t [Node] Executing \"flair_bet\" <nipype.interfaces.fsl.preprocess.BET>\n",
      "230409-22:36:20,127 nipype.workflow INFO:\n",
      "\t [Node] Finished \"flair_bet\", elapsed time 2.1974460000000002s.\n"
     ]
    },
    {
     "name": "stderr",
     "output_type": "stream",
     "text": [
      "\r",
      "Cases :  17%|█████▊                             | 10/60 [00:22<01:54,  2.29s/it]"
     ]
    },
    {
     "name": "stdout",
     "output_type": "stream",
     "text": [
      "230409-22:36:20,130 nipype.workflow INFO:\n",
      "\t Workflow challenge_BET_workflow settings: ['check', 'execution', 'logging', 'monitoring']\n",
      "230409-22:36:20,134 nipype.workflow INFO:\n",
      "\t Running serially.\n",
      "230409-22:36:20,135 nipype.workflow INFO:\n",
      "\t [Node] Setting-up \"challenge_BET_workflow.flair_bet\" in \"/tmp/tmpq6h1bsb8/challenge_BET_workflow/flair_bet\".\n",
      "230409-22:36:20,137 nipype.workflow INFO:\n",
      "\t [Node] Executing \"flair_bet\" <nipype.interfaces.fsl.preprocess.BET>\n",
      "230409-22:36:22,340 nipype.workflow INFO:\n",
      "\t [Node] Finished \"flair_bet\", elapsed time 2.202728s.\n"
     ]
    },
    {
     "name": "stderr",
     "output_type": "stream",
     "text": [
      "\r",
      "Cases :  18%|██████▍                            | 11/60 [00:25<01:51,  2.27s/it]"
     ]
    },
    {
     "name": "stdout",
     "output_type": "stream",
     "text": [
      "230409-22:36:22,343 nipype.workflow INFO:\n",
      "\t Workflow challenge_BET_workflow settings: ['check', 'execution', 'logging', 'monitoring']\n",
      "230409-22:36:22,347 nipype.workflow INFO:\n",
      "\t Running serially.\n",
      "230409-22:36:22,347 nipype.workflow INFO:\n",
      "\t [Node] Setting-up \"challenge_BET_workflow.flair_bet\" in \"/tmp/tmpmd1r4auu/challenge_BET_workflow/flair_bet\".\n",
      "230409-22:36:22,349 nipype.workflow INFO:\n",
      "\t [Node] Executing \"flair_bet\" <nipype.interfaces.fsl.preprocess.BET>\n",
      "230409-22:36:24,531 nipype.workflow INFO:\n",
      "\t [Node] Finished \"flair_bet\", elapsed time 2.180714s.\n"
     ]
    },
    {
     "name": "stderr",
     "output_type": "stream",
     "text": [
      "\r",
      "Cases :  20%|███████                            | 12/60 [00:27<01:47,  2.25s/it]"
     ]
    },
    {
     "name": "stdout",
     "output_type": "stream",
     "text": [
      "230409-22:36:24,534 nipype.workflow INFO:\n",
      "\t Workflow challenge_BET_workflow settings: ['check', 'execution', 'logging', 'monitoring']\n",
      "230409-22:36:24,538 nipype.workflow INFO:\n",
      "\t Running serially.\n",
      "230409-22:36:24,538 nipype.workflow INFO:\n",
      "\t [Node] Setting-up \"challenge_BET_workflow.flair_bet\" in \"/tmp/tmpqxqgcqtg/challenge_BET_workflow/flair_bet\".\n",
      "230409-22:36:24,541 nipype.workflow INFO:\n",
      "\t [Node] Executing \"flair_bet\" <nipype.interfaces.fsl.preprocess.BET>\n",
      "230409-22:36:26,723 nipype.workflow INFO:\n",
      "\t [Node] Finished \"flair_bet\", elapsed time 2.181604s.\n"
     ]
    },
    {
     "name": "stderr",
     "output_type": "stream",
     "text": [
      "\r",
      "Cases :  22%|███████▌                           | 13/60 [00:29<01:44,  2.23s/it]"
     ]
    },
    {
     "name": "stdout",
     "output_type": "stream",
     "text": [
      "230409-22:36:26,726 nipype.workflow INFO:\n",
      "\t Workflow challenge_BET_workflow settings: ['check', 'execution', 'logging', 'monitoring']\n",
      "230409-22:36:26,729 nipype.workflow INFO:\n",
      "\t Running serially.\n",
      "230409-22:36:26,730 nipype.workflow INFO:\n",
      "\t [Node] Setting-up \"challenge_BET_workflow.flair_bet\" in \"/tmp/tmpvjh3a5o3/challenge_BET_workflow/flair_bet\".\n",
      "230409-22:36:26,732 nipype.workflow INFO:\n",
      "\t [Node] Executing \"flair_bet\" <nipype.interfaces.fsl.preprocess.BET>\n",
      "230409-22:36:28,953 nipype.workflow INFO:\n",
      "\t [Node] Finished \"flair_bet\", elapsed time 2.219237s.\n"
     ]
    },
    {
     "name": "stderr",
     "output_type": "stream",
     "text": [
      "\r",
      "Cases :  23%|████████▏                          | 14/60 [00:31<01:42,  2.23s/it]"
     ]
    },
    {
     "name": "stdout",
     "output_type": "stream",
     "text": [
      "230409-22:36:28,956 nipype.workflow INFO:\n",
      "\t Workflow challenge_BET_workflow settings: ['check', 'execution', 'logging', 'monitoring']\n",
      "230409-22:36:28,959 nipype.workflow INFO:\n",
      "\t Running serially.\n",
      "230409-22:36:28,960 nipype.workflow INFO:\n",
      "\t [Node] Setting-up \"challenge_BET_workflow.flair_bet\" in \"/tmp/tmpmwfhhr0h/challenge_BET_workflow/flair_bet\".\n",
      "230409-22:36:28,963 nipype.workflow INFO:\n",
      "\t [Node] Executing \"flair_bet\" <nipype.interfaces.fsl.preprocess.BET>\n",
      "230409-22:36:31,172 nipype.workflow INFO:\n",
      "\t [Node] Finished \"flair_bet\", elapsed time 2.208088s.\n"
     ]
    },
    {
     "name": "stderr",
     "output_type": "stream",
     "text": [
      "\r",
      "Cases :  25%|████████▊                          | 15/60 [00:33<01:40,  2.23s/it]"
     ]
    },
    {
     "name": "stdout",
     "output_type": "stream",
     "text": [
      "230409-22:36:31,175 nipype.workflow INFO:\n",
      "\t Workflow challenge_BET_workflow settings: ['check', 'execution', 'logging', 'monitoring']\n",
      "230409-22:36:31,178 nipype.workflow INFO:\n",
      "\t Running serially.\n",
      "230409-22:36:31,179 nipype.workflow INFO:\n",
      "\t [Node] Setting-up \"challenge_BET_workflow.flair_bet\" in \"/tmp/tmpyf000w3d/challenge_BET_workflow/flair_bet\".\n",
      "230409-22:36:31,182 nipype.workflow INFO:\n",
      "\t [Node] Executing \"flair_bet\" <nipype.interfaces.fsl.preprocess.BET>\n",
      "230409-22:36:33,403 nipype.workflow INFO:\n",
      "\t [Node] Finished \"flair_bet\", elapsed time 2.220371s.\n"
     ]
    },
    {
     "name": "stderr",
     "output_type": "stream",
     "text": [
      "\r",
      "Cases :  27%|█████████▎                         | 16/60 [00:36<01:38,  2.23s/it]"
     ]
    },
    {
     "name": "stdout",
     "output_type": "stream",
     "text": [
      "230409-22:36:33,406 nipype.workflow INFO:\n",
      "\t Workflow challenge_BET_workflow settings: ['check', 'execution', 'logging', 'monitoring']\n",
      "230409-22:36:33,409 nipype.workflow INFO:\n",
      "\t Running serially.\n",
      "230409-22:36:33,410 nipype.workflow INFO:\n",
      "\t [Node] Setting-up \"challenge_BET_workflow.flair_bet\" in \"/tmp/tmpyhmlan19/challenge_BET_workflow/flair_bet\".\n",
      "230409-22:36:33,413 nipype.workflow INFO:\n",
      "\t [Node] Executing \"flair_bet\" <nipype.interfaces.fsl.preprocess.BET>\n",
      "230409-22:36:35,619 nipype.workflow INFO:\n",
      "\t [Node] Finished \"flair_bet\", elapsed time 2.205469s.\n"
     ]
    },
    {
     "name": "stderr",
     "output_type": "stream",
     "text": [
      "\r",
      "Cases :  28%|█████████▉                         | 17/60 [00:38<01:35,  2.22s/it]"
     ]
    },
    {
     "name": "stdout",
     "output_type": "stream",
     "text": [
      "230409-22:36:35,623 nipype.workflow INFO:\n",
      "\t Workflow challenge_BET_workflow settings: ['check', 'execution', 'logging', 'monitoring']\n",
      "230409-22:36:35,626 nipype.workflow INFO:\n",
      "\t Running serially.\n",
      "230409-22:36:35,627 nipype.workflow INFO:\n",
      "\t [Node] Setting-up \"challenge_BET_workflow.flair_bet\" in \"/tmp/tmpx1vyyuc9/challenge_BET_workflow/flair_bet\".\n",
      "230409-22:36:35,629 nipype.workflow INFO:\n",
      "\t [Node] Executing \"flair_bet\" <nipype.interfaces.fsl.preprocess.BET>\n",
      "230409-22:36:37,847 nipype.workflow INFO:\n",
      "\t [Node] Finished \"flair_bet\", elapsed time 2.217495s.\n"
     ]
    },
    {
     "name": "stderr",
     "output_type": "stream",
     "text": [
      "\r",
      "Cases :  30%|██████████▌                        | 18/60 [00:40<01:33,  2.23s/it]"
     ]
    },
    {
     "name": "stdout",
     "output_type": "stream",
     "text": [
      "230409-22:36:37,850 nipype.workflow INFO:\n",
      "\t Workflow challenge_BET_workflow settings: ['check', 'execution', 'logging', 'monitoring']\n",
      "230409-22:36:37,854 nipype.workflow INFO:\n",
      "\t Running serially.\n",
      "230409-22:36:37,854 nipype.workflow INFO:\n",
      "\t [Node] Setting-up \"challenge_BET_workflow.flair_bet\" in \"/tmp/tmpjpsbm_0l/challenge_BET_workflow/flair_bet\".\n",
      "230409-22:36:37,857 nipype.workflow INFO:\n",
      "\t [Node] Executing \"flair_bet\" <nipype.interfaces.fsl.preprocess.BET>\n",
      "230409-22:36:40,52 nipype.workflow INFO:\n",
      "\t [Node] Finished \"flair_bet\", elapsed time 2.193482s.\n"
     ]
    },
    {
     "name": "stderr",
     "output_type": "stream",
     "text": [
      "\r",
      "Cases :  32%|███████████                        | 19/60 [00:42<01:30,  2.22s/it]"
     ]
    },
    {
     "name": "stdout",
     "output_type": "stream",
     "text": [
      "230409-22:36:40,55 nipype.workflow INFO:\n",
      "\t Workflow challenge_BET_workflow settings: ['check', 'execution', 'logging', 'monitoring']\n",
      "230409-22:36:40,58 nipype.workflow INFO:\n",
      "\t Running serially.\n",
      "230409-22:36:40,59 nipype.workflow INFO:\n",
      "\t [Node] Setting-up \"challenge_BET_workflow.flair_bet\" in \"/tmp/tmpfklv_bh_/challenge_BET_workflow/flair_bet\".\n",
      "230409-22:36:40,61 nipype.workflow INFO:\n",
      "\t [Node] Executing \"flair_bet\" <nipype.interfaces.fsl.preprocess.BET>\n",
      "230409-22:36:42,267 nipype.workflow INFO:\n",
      "\t [Node] Finished \"flair_bet\", elapsed time 2.205193s.\n"
     ]
    },
    {
     "name": "stderr",
     "output_type": "stream",
     "text": [
      "\r",
      "Cases :  33%|███████████▋                       | 20/60 [00:44<01:28,  2.22s/it]"
     ]
    },
    {
     "name": "stdout",
     "output_type": "stream",
     "text": [
      "230409-22:36:42,270 nipype.workflow INFO:\n",
      "\t Workflow challenge_BET_workflow settings: ['check', 'execution', 'logging', 'monitoring']\n",
      "230409-22:36:42,274 nipype.workflow INFO:\n",
      "\t Running serially.\n",
      "230409-22:36:42,274 nipype.workflow INFO:\n",
      "\t [Node] Setting-up \"challenge_BET_workflow.flair_bet\" in \"/tmp/tmps1y6tdud/challenge_BET_workflow/flair_bet\".\n",
      "230409-22:36:42,278 nipype.workflow INFO:\n",
      "\t [Node] Executing \"flair_bet\" <nipype.interfaces.fsl.preprocess.BET>\n",
      "230409-22:37:02,105 nipype.workflow INFO:\n",
      "\t [Node] Finished \"flair_bet\", elapsed time 19.825825000000002s.\n"
     ]
    },
    {
     "name": "stderr",
     "output_type": "stream",
     "text": [
      "\r",
      "Cases :  35%|████████████▎                      | 21/60 [01:04<04:52,  7.51s/it]"
     ]
    },
    {
     "name": "stdout",
     "output_type": "stream",
     "text": [
      "230409-22:37:02,108 nipype.workflow INFO:\n",
      "\t Workflow challenge_BET_workflow settings: ['check', 'execution', 'logging', 'monitoring']\n",
      "230409-22:37:02,111 nipype.workflow INFO:\n",
      "\t Running serially.\n",
      "230409-22:37:02,112 nipype.workflow INFO:\n",
      "\t [Node] Setting-up \"challenge_BET_workflow.flair_bet\" in \"/tmp/tmplkojwty9/challenge_BET_workflow/flair_bet\".\n",
      "230409-22:37:02,114 nipype.workflow INFO:\n",
      "\t [Node] Executing \"flair_bet\" <nipype.interfaces.fsl.preprocess.BET>\n",
      "230409-22:37:04,311 nipype.workflow INFO:\n",
      "\t [Node] Finished \"flair_bet\", elapsed time 2.196347s.\n"
     ]
    },
    {
     "name": "stderr",
     "output_type": "stream",
     "text": [
      "\r",
      "Cases :  37%|████████████▊                      | 22/60 [01:07<03:44,  5.92s/it]"
     ]
    },
    {
     "name": "stdout",
     "output_type": "stream",
     "text": [
      "230409-22:37:04,314 nipype.workflow INFO:\n",
      "\t Workflow challenge_BET_workflow settings: ['check', 'execution', 'logging', 'monitoring']\n",
      "230409-22:37:04,317 nipype.workflow INFO:\n",
      "\t Running serially.\n",
      "230409-22:37:04,318 nipype.workflow INFO:\n",
      "\t [Node] Setting-up \"challenge_BET_workflow.flair_bet\" in \"/tmp/tmpvlzv4y0u/challenge_BET_workflow/flair_bet\".\n",
      "230409-22:37:04,321 nipype.workflow INFO:\n",
      "\t [Node] Executing \"flair_bet\" <nipype.interfaces.fsl.preprocess.BET>\n",
      "230409-22:37:07,266 nipype.workflow INFO:\n",
      "\t [Node] Finished \"flair_bet\", elapsed time 2.944228s.\n"
     ]
    },
    {
     "name": "stderr",
     "output_type": "stream",
     "text": [
      "\r",
      "Cases :  38%|█████████████▍                     | 23/60 [01:09<03:06,  5.03s/it]"
     ]
    },
    {
     "name": "stdout",
     "output_type": "stream",
     "text": [
      "230409-22:37:07,269 nipype.workflow INFO:\n",
      "\t Workflow challenge_BET_workflow settings: ['check', 'execution', 'logging', 'monitoring']\n",
      "230409-22:37:07,273 nipype.workflow INFO:\n",
      "\t Running serially.\n",
      "230409-22:37:07,273 nipype.workflow INFO:\n",
      "\t [Node] Setting-up \"challenge_BET_workflow.flair_bet\" in \"/tmp/tmp82u3zuoo/challenge_BET_workflow/flair_bet\".\n",
      "230409-22:37:07,275 nipype.workflow INFO:\n",
      "\t [Node] Executing \"flair_bet\" <nipype.interfaces.fsl.preprocess.BET>\n",
      "230409-22:37:10,413 nipype.workflow INFO:\n",
      "\t [Node] Finished \"flair_bet\", elapsed time 3.136138s.\n"
     ]
    },
    {
     "name": "stderr",
     "output_type": "stream",
     "text": [
      "\r",
      "Cases :  40%|██████████████                     | 24/60 [01:13<02:40,  4.46s/it]"
     ]
    },
    {
     "name": "stdout",
     "output_type": "stream",
     "text": [
      "230409-22:37:10,416 nipype.workflow INFO:\n",
      "\t Workflow challenge_BET_workflow settings: ['check', 'execution', 'logging', 'monitoring']\n",
      "230409-22:37:10,419 nipype.workflow INFO:\n",
      "\t Running serially.\n",
      "230409-22:37:10,420 nipype.workflow INFO:\n",
      "\t [Node] Setting-up \"challenge_BET_workflow.flair_bet\" in \"/tmp/tmphrydxwlb/challenge_BET_workflow/flair_bet\".\n",
      "230409-22:37:10,422 nipype.workflow INFO:\n",
      "\t [Node] Executing \"flair_bet\" <nipype.interfaces.fsl.preprocess.BET>\n",
      "230409-22:37:13,610 nipype.workflow INFO:\n",
      "\t [Node] Finished \"flair_bet\", elapsed time 3.187279s.\n"
     ]
    },
    {
     "name": "stderr",
     "output_type": "stream",
     "text": [
      "\r",
      "Cases :  42%|██████████████▌                    | 25/60 [01:16<02:22,  4.08s/it]"
     ]
    },
    {
     "name": "stdout",
     "output_type": "stream",
     "text": [
      "230409-22:37:13,613 nipype.workflow INFO:\n",
      "\t Workflow challenge_BET_workflow settings: ['check', 'execution', 'logging', 'monitoring']\n",
      "230409-22:37:13,617 nipype.workflow INFO:\n",
      "\t Running serially.\n",
      "230409-22:37:13,617 nipype.workflow INFO:\n",
      "\t [Node] Setting-up \"challenge_BET_workflow.flair_bet\" in \"/tmp/tmpa7gfbt2o/challenge_BET_workflow/flair_bet\".\n",
      "230409-22:37:13,620 nipype.workflow INFO:\n",
      "\t [Node] Executing \"flair_bet\" <nipype.interfaces.fsl.preprocess.BET>\n",
      "230409-22:37:21,655 nipype.workflow INFO:\n",
      "\t [Node] Finished \"flair_bet\", elapsed time 8.034566s.\n"
     ]
    },
    {
     "name": "stderr",
     "output_type": "stream",
     "text": [
      "\r",
      "Cases :  43%|███████████████▏                   | 26/60 [01:24<02:59,  5.27s/it]"
     ]
    },
    {
     "name": "stdout",
     "output_type": "stream",
     "text": [
      "230409-22:37:21,659 nipype.workflow INFO:\n",
      "\t Workflow challenge_BET_workflow settings: ['check', 'execution', 'logging', 'monitoring']\n",
      "230409-22:37:21,665 nipype.workflow INFO:\n",
      "\t Running serially.\n",
      "230409-22:37:21,666 nipype.workflow INFO:\n",
      "\t [Node] Setting-up \"challenge_BET_workflow.flair_bet\" in \"/tmp/tmpn939qgnp/challenge_BET_workflow/flair_bet\".\n",
      "230409-22:37:21,669 nipype.workflow INFO:\n",
      "\t [Node] Executing \"flair_bet\" <nipype.interfaces.fsl.preprocess.BET>\n",
      "230409-22:37:25,742 nipype.workflow INFO:\n",
      "\t [Node] Finished \"flair_bet\", elapsed time 4.072264s.\n"
     ]
    },
    {
     "name": "stderr",
     "output_type": "stream",
     "text": [
      "\r",
      "Cases :  45%|███████████████▊                   | 27/60 [01:28<02:42,  4.92s/it]"
     ]
    },
    {
     "name": "stdout",
     "output_type": "stream",
     "text": [
      "230409-22:37:25,747 nipype.workflow INFO:\n",
      "\t Workflow challenge_BET_workflow settings: ['check', 'execution', 'logging', 'monitoring']\n",
      "230409-22:37:25,750 nipype.workflow INFO:\n",
      "\t Running serially.\n",
      "230409-22:37:25,750 nipype.workflow INFO:\n",
      "\t [Node] Setting-up \"challenge_BET_workflow.flair_bet\" in \"/tmp/tmp2kdjxhl5/challenge_BET_workflow/flair_bet\".\n",
      "230409-22:37:25,753 nipype.workflow INFO:\n",
      "\t [Node] Executing \"flair_bet\" <nipype.interfaces.fsl.preprocess.BET>\n",
      "230409-22:37:28,134 nipype.workflow INFO:\n",
      "\t [Node] Finished \"flair_bet\", elapsed time 2.380462s.\n"
     ]
    },
    {
     "name": "stderr",
     "output_type": "stream",
     "text": [
      "\r",
      "Cases :  47%|████████████████▎                  | 28/60 [01:30<02:13,  4.16s/it]"
     ]
    },
    {
     "name": "stdout",
     "output_type": "stream",
     "text": [
      "230409-22:37:28,137 nipype.workflow INFO:\n",
      "\t Workflow challenge_BET_workflow settings: ['check', 'execution', 'logging', 'monitoring']\n",
      "230409-22:37:28,140 nipype.workflow INFO:\n",
      "\t Running serially.\n",
      "230409-22:37:28,141 nipype.workflow INFO:\n",
      "\t [Node] Setting-up \"challenge_BET_workflow.flair_bet\" in \"/tmp/tmpnen9howa/challenge_BET_workflow/flair_bet\".\n",
      "230409-22:37:28,145 nipype.workflow INFO:\n",
      "\t [Node] Executing \"flair_bet\" <nipype.interfaces.fsl.preprocess.BET>\n",
      "230409-22:37:31,394 nipype.workflow INFO:\n",
      "\t [Node] Finished \"flair_bet\", elapsed time 3.246973s.\n"
     ]
    },
    {
     "name": "stderr",
     "output_type": "stream",
     "text": [
      "\r",
      "Cases :  48%|████████████████▉                  | 29/60 [01:34<02:00,  3.89s/it]"
     ]
    },
    {
     "name": "stdout",
     "output_type": "stream",
     "text": [
      "230409-22:37:31,397 nipype.workflow INFO:\n",
      "\t Workflow challenge_BET_workflow settings: ['check', 'execution', 'logging', 'monitoring']\n",
      "230409-22:37:31,400 nipype.workflow INFO:\n",
      "\t Running serially.\n",
      "230409-22:37:31,401 nipype.workflow INFO:\n",
      "\t [Node] Setting-up \"challenge_BET_workflow.flair_bet\" in \"/tmp/tmpj8qol_o2/challenge_BET_workflow/flair_bet\".\n",
      "230409-22:37:31,404 nipype.workflow INFO:\n",
      "\t [Node] Executing \"flair_bet\" <nipype.interfaces.fsl.preprocess.BET>\n",
      "230409-22:37:37,853 nipype.workflow INFO:\n",
      "\t [Node] Finished \"flair_bet\", elapsed time 6.448063s.\n"
     ]
    },
    {
     "name": "stderr",
     "output_type": "stream",
     "text": [
      "\r",
      "Cases :  50%|█████████████████▌                 | 30/60 [01:40<02:19,  4.66s/it]"
     ]
    },
    {
     "name": "stdout",
     "output_type": "stream",
     "text": [
      "230409-22:37:37,856 nipype.workflow INFO:\n",
      "\t Workflow challenge_BET_workflow settings: ['check', 'execution', 'logging', 'monitoring']\n",
      "230409-22:37:37,859 nipype.workflow INFO:\n",
      "\t Running serially.\n",
      "230409-22:37:37,860 nipype.workflow INFO:\n",
      "\t [Node] Setting-up \"challenge_BET_workflow.flair_bet\" in \"/tmp/tmpmsvf__ta/challenge_BET_workflow/flair_bet\".\n",
      "230409-22:37:37,863 nipype.workflow INFO:\n",
      "\t [Node] Executing \"flair_bet\" <nipype.interfaces.fsl.preprocess.BET>\n",
      "230409-22:37:41,912 nipype.workflow INFO:\n",
      "\t [Node] Finished \"flair_bet\", elapsed time 4.048005s.\n"
     ]
    },
    {
     "name": "stderr",
     "output_type": "stream",
     "text": [
      "\r",
      "Cases :  52%|██████████████████                 | 31/60 [01:44<02:09,  4.48s/it]"
     ]
    },
    {
     "name": "stdout",
     "output_type": "stream",
     "text": [
      "230409-22:37:41,915 nipype.workflow INFO:\n",
      "\t Workflow challenge_BET_workflow settings: ['check', 'execution', 'logging', 'monitoring']\n",
      "230409-22:37:41,917 nipype.workflow INFO:\n",
      "\t Running serially.\n",
      "230409-22:37:41,917 nipype.workflow INFO:\n",
      "\t [Node] Setting-up \"challenge_BET_workflow.flair_bet\" in \"/tmp/tmpbwqfapin/challenge_BET_workflow/flair_bet\".\n",
      "230409-22:37:41,919 nipype.workflow INFO:\n",
      "\t [Node] Executing \"flair_bet\" <nipype.interfaces.fsl.preprocess.BET>\n",
      "230409-22:37:45,294 nipype.workflow INFO:\n",
      "\t [Node] Finished \"flair_bet\", elapsed time 3.373871s.\n"
     ]
    },
    {
     "name": "stderr",
     "output_type": "stream",
     "text": [
      "\r",
      "Cases :  53%|██████████████████▋                | 32/60 [01:47<01:56,  4.15s/it]"
     ]
    },
    {
     "name": "stdout",
     "output_type": "stream",
     "text": [
      "230409-22:37:45,297 nipype.workflow INFO:\n",
      "\t Workflow challenge_BET_workflow settings: ['check', 'execution', 'logging', 'monitoring']\n",
      "230409-22:37:45,299 nipype.workflow INFO:\n",
      "\t Running serially.\n",
      "230409-22:37:45,299 nipype.workflow INFO:\n",
      "\t [Node] Setting-up \"challenge_BET_workflow.flair_bet\" in \"/tmp/tmp7ilc086n/challenge_BET_workflow/flair_bet\".\n",
      "230409-22:37:45,302 nipype.workflow INFO:\n",
      "\t [Node] Executing \"flair_bet\" <nipype.interfaces.fsl.preprocess.BET>\n",
      "230409-22:37:47,709 nipype.workflow INFO:\n",
      "\t [Node] Finished \"flair_bet\", elapsed time 2.406575s.\n"
     ]
    },
    {
     "name": "stderr",
     "output_type": "stream",
     "text": [
      "\r",
      "Cases :  55%|███████████████████▎               | 33/60 [01:50<01:38,  3.63s/it]"
     ]
    },
    {
     "name": "stdout",
     "output_type": "stream",
     "text": [
      "230409-22:37:47,712 nipype.workflow INFO:\n",
      "\t Workflow challenge_BET_workflow settings: ['check', 'execution', 'logging', 'monitoring']\n",
      "230409-22:37:47,714 nipype.workflow INFO:\n",
      "\t Running serially.\n",
      "230409-22:37:47,715 nipype.workflow INFO:\n",
      "\t [Node] Setting-up \"challenge_BET_workflow.flair_bet\" in \"/tmp/tmpj8bzv5b1/challenge_BET_workflow/flair_bet\".\n",
      "230409-22:37:47,717 nipype.workflow INFO:\n",
      "\t [Node] Executing \"flair_bet\" <nipype.interfaces.fsl.preprocess.BET>\n",
      "230409-22:37:55,834 nipype.workflow INFO:\n",
      "\t [Node] Finished \"flair_bet\", elapsed time 8.116382s.\n"
     ]
    },
    {
     "name": "stderr",
     "output_type": "stream",
     "text": [
      "\r",
      "Cases :  57%|███████████████████▊               | 34/60 [01:58<02:09,  4.98s/it]"
     ]
    },
    {
     "name": "stdout",
     "output_type": "stream",
     "text": [
      "230409-22:37:55,837 nipype.workflow INFO:\n",
      "\t Workflow challenge_BET_workflow settings: ['check', 'execution', 'logging', 'monitoring']\n",
      "230409-22:37:55,840 nipype.workflow INFO:\n",
      "\t Running serially.\n",
      "230409-22:37:55,841 nipype.workflow INFO:\n",
      "\t [Node] Setting-up \"challenge_BET_workflow.flair_bet\" in \"/tmp/tmpe7ntd850/challenge_BET_workflow/flair_bet\".\n",
      "230409-22:37:55,843 nipype.workflow INFO:\n",
      "\t [Node] Executing \"flair_bet\" <nipype.interfaces.fsl.preprocess.BET>\n",
      "230409-22:38:09,935 nipype.workflow INFO:\n",
      "\t [Node] Finished \"flair_bet\", elapsed time 14.090127s.\n"
     ]
    },
    {
     "name": "stderr",
     "output_type": "stream",
     "text": [
      "\r",
      "Cases :  58%|████████████████████▍              | 35/60 [02:12<03:12,  7.72s/it]"
     ]
    },
    {
     "name": "stdout",
     "output_type": "stream",
     "text": [
      "230409-22:38:09,938 nipype.workflow INFO:\n",
      "\t Workflow challenge_BET_workflow settings: ['check', 'execution', 'logging', 'monitoring']\n",
      "230409-22:38:09,941 nipype.workflow INFO:\n",
      "\t Running serially.\n",
      "230409-22:38:09,942 nipype.workflow INFO:\n",
      "\t [Node] Setting-up \"challenge_BET_workflow.flair_bet\" in \"/tmp/tmpn_4k5t7e/challenge_BET_workflow/flair_bet\".\n",
      "230409-22:38:09,944 nipype.workflow INFO:\n",
      "\t [Node] Executing \"flair_bet\" <nipype.interfaces.fsl.preprocess.BET>\n",
      "230409-22:38:19,107 nipype.workflow INFO:\n",
      "\t [Node] Finished \"flair_bet\", elapsed time 9.161835s.\n"
     ]
    },
    {
     "name": "stderr",
     "output_type": "stream",
     "text": [
      "\r",
      "Cases :  60%|█████████████████████              | 36/60 [02:21<03:15,  8.15s/it]"
     ]
    },
    {
     "name": "stdout",
     "output_type": "stream",
     "text": [
      "230409-22:38:19,111 nipype.workflow INFO:\n",
      "\t Workflow challenge_BET_workflow settings: ['check', 'execution', 'logging', 'monitoring']\n",
      "230409-22:38:19,115 nipype.workflow INFO:\n",
      "\t Running serially.\n",
      "230409-22:38:19,115 nipype.workflow INFO:\n",
      "\t [Node] Setting-up \"challenge_BET_workflow.flair_bet\" in \"/tmp/tmpp4afaycy/challenge_BET_workflow/flair_bet\".\n",
      "230409-22:38:19,117 nipype.workflow INFO:\n",
      "\t [Node] Executing \"flair_bet\" <nipype.interfaces.fsl.preprocess.BET>\n",
      "230409-22:38:21,290 nipype.workflow INFO:\n",
      "\t [Node] Finished \"flair_bet\", elapsed time 2.171145s.\n"
     ]
    },
    {
     "name": "stderr",
     "output_type": "stream",
     "text": [
      "\r",
      "Cases :  62%|█████████████████████▌             | 37/60 [02:23<02:26,  6.36s/it]"
     ]
    },
    {
     "name": "stdout",
     "output_type": "stream",
     "text": [
      "230409-22:38:21,293 nipype.workflow INFO:\n",
      "\t Workflow challenge_BET_workflow settings: ['check', 'execution', 'logging', 'monitoring']\n",
      "230409-22:38:21,296 nipype.workflow INFO:\n",
      "\t Running serially.\n",
      "230409-22:38:21,298 nipype.workflow INFO:\n",
      "\t [Node] Setting-up \"challenge_BET_workflow.flair_bet\" in \"/tmp/tmp_ag2mh25/challenge_BET_workflow/flair_bet\".\n",
      "230409-22:38:21,300 nipype.workflow INFO:\n",
      "\t [Node] Executing \"flair_bet\" <nipype.interfaces.fsl.preprocess.BET>\n",
      "230409-22:38:24,913 nipype.workflow INFO:\n",
      "\t [Node] Finished \"flair_bet\", elapsed time 3.6120419999999998s.\n"
     ]
    },
    {
     "name": "stderr",
     "output_type": "stream",
     "text": [
      "\r",
      "Cases :  63%|██████████████████████▏            | 38/60 [02:27<02:01,  5.54s/it]"
     ]
    },
    {
     "name": "stdout",
     "output_type": "stream",
     "text": [
      "230409-22:38:24,916 nipype.workflow INFO:\n",
      "\t Workflow challenge_BET_workflow settings: ['check', 'execution', 'logging', 'monitoring']\n",
      "230409-22:38:24,920 nipype.workflow INFO:\n",
      "\t Running serially.\n",
      "230409-22:38:24,920 nipype.workflow INFO:\n",
      "\t [Node] Setting-up \"challenge_BET_workflow.flair_bet\" in \"/tmp/tmpoly462qx/challenge_BET_workflow/flair_bet\".\n",
      "230409-22:38:24,923 nipype.workflow INFO:\n",
      "\t [Node] Executing \"flair_bet\" <nipype.interfaces.fsl.preprocess.BET>\n",
      "230409-22:38:28,116 nipype.workflow INFO:\n",
      "\t [Node] Finished \"flair_bet\", elapsed time 3.192576s.\n"
     ]
    },
    {
     "name": "stderr",
     "output_type": "stream",
     "text": [
      "\r",
      "Cases :  65%|██████████████████████▊            | 39/60 [02:30<01:41,  4.84s/it]"
     ]
    },
    {
     "name": "stdout",
     "output_type": "stream",
     "text": [
      "230409-22:38:28,119 nipype.workflow INFO:\n",
      "\t Workflow challenge_BET_workflow settings: ['check', 'execution', 'logging', 'monitoring']\n",
      "230409-22:38:28,122 nipype.workflow INFO:\n",
      "\t Running serially.\n",
      "230409-22:38:28,123 nipype.workflow INFO:\n",
      "\t [Node] Setting-up \"challenge_BET_workflow.flair_bet\" in \"/tmp/tmppfs9fwz1/challenge_BET_workflow/flair_bet\".\n",
      "230409-22:38:28,127 nipype.workflow INFO:\n",
      "\t [Node] Executing \"flair_bet\" <nipype.interfaces.fsl.preprocess.BET>\n",
      "230409-22:38:31,759 nipype.workflow INFO:\n",
      "\t [Node] Finished \"flair_bet\", elapsed time 3.630747s.\n"
     ]
    },
    {
     "name": "stderr",
     "output_type": "stream",
     "text": [
      "\r",
      "Cases :  67%|███████████████████████▎           | 40/60 [02:34<01:29,  4.48s/it]"
     ]
    },
    {
     "name": "stdout",
     "output_type": "stream",
     "text": [
      "230409-22:38:31,762 nipype.workflow INFO:\n",
      "\t Workflow challenge_BET_workflow settings: ['check', 'execution', 'logging', 'monitoring']\n",
      "230409-22:38:31,766 nipype.workflow INFO:\n",
      "\t Running serially.\n",
      "230409-22:38:31,766 nipype.workflow INFO:\n",
      "\t [Node] Setting-up \"challenge_BET_workflow.flair_bet\" in \"/tmp/tmp_009j_qs/challenge_BET_workflow/flair_bet\".\n",
      "230409-22:38:31,768 nipype.workflow INFO:\n",
      "\t [Node] Executing \"flair_bet\" <nipype.interfaces.fsl.preprocess.BET>\n",
      "230409-22:38:33,989 nipype.workflow INFO:\n",
      "\t [Node] Finished \"flair_bet\", elapsed time 2.220124s.\n"
     ]
    },
    {
     "name": "stderr",
     "output_type": "stream",
     "text": [
      "\r",
      "Cases :  68%|███████████████████████▉           | 41/60 [02:36<01:12,  3.81s/it]"
     ]
    },
    {
     "name": "stdout",
     "output_type": "stream",
     "text": [
      "230409-22:38:33,993 nipype.workflow INFO:\n",
      "\t Workflow challenge_BET_workflow settings: ['check', 'execution', 'logging', 'monitoring']\n",
      "230409-22:38:33,996 nipype.workflow INFO:\n",
      "\t Running serially.\n",
      "230409-22:38:33,997 nipype.workflow INFO:\n",
      "\t [Node] Setting-up \"challenge_BET_workflow.flair_bet\" in \"/tmp/tmp87un83oz/challenge_BET_workflow/flair_bet\".\n",
      "230409-22:38:33,999 nipype.workflow INFO:\n",
      "\t [Node] Executing \"flair_bet\" <nipype.interfaces.fsl.preprocess.BET>\n",
      "230409-22:38:36,206 nipype.workflow INFO:\n",
      "\t [Node] Finished \"flair_bet\", elapsed time 2.205756s.\n"
     ]
    },
    {
     "name": "stderr",
     "output_type": "stream",
     "text": [
      "\r",
      "Cases :  70%|████████████████████████▌          | 42/60 [02:38<00:59,  3.33s/it]"
     ]
    },
    {
     "name": "stdout",
     "output_type": "stream",
     "text": [
      "230409-22:38:36,210 nipype.workflow INFO:\n",
      "\t Workflow challenge_BET_workflow settings: ['check', 'execution', 'logging', 'monitoring']\n",
      "230409-22:38:36,213 nipype.workflow INFO:\n",
      "\t Running serially.\n",
      "230409-22:38:36,214 nipype.workflow INFO:\n",
      "\t [Node] Setting-up \"challenge_BET_workflow.flair_bet\" in \"/tmp/tmp9bsxpe21/challenge_BET_workflow/flair_bet\".\n",
      "230409-22:38:36,216 nipype.workflow INFO:\n",
      "\t [Node] Executing \"flair_bet\" <nipype.interfaces.fsl.preprocess.BET>\n",
      "230409-22:38:38,450 nipype.workflow INFO:\n",
      "\t [Node] Finished \"flair_bet\", elapsed time 2.232946s.\n"
     ]
    },
    {
     "name": "stderr",
     "output_type": "stream",
     "text": [
      "\r",
      "Cases :  72%|█████████████████████████          | 43/60 [02:41<00:51,  3.00s/it]"
     ]
    },
    {
     "name": "stdout",
     "output_type": "stream",
     "text": [
      "230409-22:38:38,453 nipype.workflow INFO:\n",
      "\t Workflow challenge_BET_workflow settings: ['check', 'execution', 'logging', 'monitoring']\n",
      "230409-22:38:38,457 nipype.workflow INFO:\n",
      "\t Running serially.\n",
      "230409-22:38:38,458 nipype.workflow INFO:\n",
      "\t [Node] Setting-up \"challenge_BET_workflow.flair_bet\" in \"/tmp/tmpudgvbbwz/challenge_BET_workflow/flair_bet\".\n",
      "230409-22:38:38,460 nipype.workflow INFO:\n",
      "\t [Node] Executing \"flair_bet\" <nipype.interfaces.fsl.preprocess.BET>\n",
      "230409-22:38:40,682 nipype.workflow INFO:\n",
      "\t [Node] Finished \"flair_bet\", elapsed time 2.220619s.\n"
     ]
    },
    {
     "name": "stderr",
     "output_type": "stream",
     "text": [
      "\r",
      "Cases :  73%|█████████████████████████▋         | 44/60 [02:43<00:44,  2.77s/it]"
     ]
    },
    {
     "name": "stdout",
     "output_type": "stream",
     "text": [
      "230409-22:38:40,685 nipype.workflow INFO:\n",
      "\t Workflow challenge_BET_workflow settings: ['check', 'execution', 'logging', 'monitoring']\n",
      "230409-22:38:40,688 nipype.workflow INFO:\n",
      "\t Running serially.\n",
      "230409-22:38:40,689 nipype.workflow INFO:\n",
      "\t [Node] Setting-up \"challenge_BET_workflow.flair_bet\" in \"/tmp/tmp954q_skl/challenge_BET_workflow/flair_bet\".\n",
      "230409-22:38:40,692 nipype.workflow INFO:\n",
      "\t [Node] Executing \"flair_bet\" <nipype.interfaces.fsl.preprocess.BET>\n",
      "230409-22:38:42,930 nipype.workflow INFO:\n",
      "\t [Node] Finished \"flair_bet\", elapsed time 2.236873s.\n"
     ]
    },
    {
     "name": "stderr",
     "output_type": "stream",
     "text": [
      "\r",
      "Cases :  75%|██████████████████████████▎        | 45/60 [02:45<00:39,  2.61s/it]"
     ]
    },
    {
     "name": "stdout",
     "output_type": "stream",
     "text": [
      "230409-22:38:42,933 nipype.workflow INFO:\n",
      "\t Workflow challenge_BET_workflow settings: ['check', 'execution', 'logging', 'monitoring']\n",
      "230409-22:38:42,936 nipype.workflow INFO:\n",
      "\t Running serially.\n",
      "230409-22:38:42,937 nipype.workflow INFO:\n",
      "\t [Node] Setting-up \"challenge_BET_workflow.flair_bet\" in \"/tmp/tmp1mgst8di/challenge_BET_workflow/flair_bet\".\n",
      "230409-22:38:42,939 nipype.workflow INFO:\n",
      "\t [Node] Executing \"flair_bet\" <nipype.interfaces.fsl.preprocess.BET>\n",
      "230409-22:38:45,172 nipype.workflow INFO:\n",
      "\t [Node] Finished \"flair_bet\", elapsed time 2.231779s.\n"
     ]
    },
    {
     "name": "stderr",
     "output_type": "stream",
     "text": [
      "\r",
      "Cases :  77%|██████████████████████████▊        | 46/60 [02:47<00:35,  2.50s/it]"
     ]
    },
    {
     "name": "stdout",
     "output_type": "stream",
     "text": [
      "230409-22:38:45,175 nipype.workflow INFO:\n",
      "\t Workflow challenge_BET_workflow settings: ['check', 'execution', 'logging', 'monitoring']\n",
      "230409-22:38:45,179 nipype.workflow INFO:\n",
      "\t Running serially.\n",
      "230409-22:38:45,180 nipype.workflow INFO:\n",
      "\t [Node] Setting-up \"challenge_BET_workflow.flair_bet\" in \"/tmp/tmpaz03pkon/challenge_BET_workflow/flair_bet\".\n",
      "230409-22:38:45,182 nipype.workflow INFO:\n",
      "\t [Node] Executing \"flair_bet\" <nipype.interfaces.fsl.preprocess.BET>\n",
      "230409-22:38:47,395 nipype.workflow INFO:\n",
      "\t [Node] Finished \"flair_bet\", elapsed time 2.210959s.\n"
     ]
    },
    {
     "name": "stderr",
     "output_type": "stream",
     "text": [
      "\r",
      "Cases :  78%|███████████████████████████▍       | 47/60 [02:50<00:31,  2.42s/it]"
     ]
    },
    {
     "name": "stdout",
     "output_type": "stream",
     "text": [
      "230409-22:38:47,398 nipype.workflow INFO:\n",
      "\t Workflow challenge_BET_workflow settings: ['check', 'execution', 'logging', 'monitoring']\n",
      "230409-22:38:47,402 nipype.workflow INFO:\n",
      "\t Running serially.\n",
      "230409-22:38:47,403 nipype.workflow INFO:\n",
      "\t [Node] Setting-up \"challenge_BET_workflow.flair_bet\" in \"/tmp/tmpd8c0eldv/challenge_BET_workflow/flair_bet\".\n",
      "230409-22:38:47,405 nipype.workflow INFO:\n",
      "\t [Node] Executing \"flair_bet\" <nipype.interfaces.fsl.preprocess.BET>\n",
      "230409-22:38:49,616 nipype.workflow INFO:\n",
      "\t [Node] Finished \"flair_bet\", elapsed time 2.210471s.\n"
     ]
    },
    {
     "name": "stderr",
     "output_type": "stream",
     "text": [
      "\r",
      "Cases :  80%|████████████████████████████       | 48/60 [02:52<00:28,  2.36s/it]"
     ]
    },
    {
     "name": "stdout",
     "output_type": "stream",
     "text": [
      "230409-22:38:49,620 nipype.workflow INFO:\n",
      "\t Workflow challenge_BET_workflow settings: ['check', 'execution', 'logging', 'monitoring']\n",
      "230409-22:38:49,624 nipype.workflow INFO:\n",
      "\t Running serially.\n",
      "230409-22:38:49,625 nipype.workflow INFO:\n",
      "\t [Node] Setting-up \"challenge_BET_workflow.flair_bet\" in \"/tmp/tmp2kig0e9j/challenge_BET_workflow/flair_bet\".\n",
      "230409-22:38:49,627 nipype.workflow INFO:\n",
      "\t [Node] Executing \"flair_bet\" <nipype.interfaces.fsl.preprocess.BET>\n",
      "230409-22:38:51,882 nipype.workflow INFO:\n",
      "\t [Node] Finished \"flair_bet\", elapsed time 2.254314s.\n"
     ]
    },
    {
     "name": "stderr",
     "output_type": "stream",
     "text": [
      "\r",
      "Cases :  82%|████████████████████████████▌      | 49/60 [02:54<00:25,  2.33s/it]"
     ]
    },
    {
     "name": "stdout",
     "output_type": "stream",
     "text": [
      "230409-22:38:51,887 nipype.workflow INFO:\n",
      "\t Workflow challenge_BET_workflow settings: ['check', 'execution', 'logging', 'monitoring']\n",
      "230409-22:38:51,892 nipype.workflow INFO:\n",
      "\t Running serially.\n",
      "230409-22:38:51,892 nipype.workflow INFO:\n",
      "\t [Node] Setting-up \"challenge_BET_workflow.flair_bet\" in \"/tmp/tmpr44v5ukm/challenge_BET_workflow/flair_bet\".\n",
      "230409-22:38:51,895 nipype.workflow INFO:\n",
      "\t [Node] Executing \"flair_bet\" <nipype.interfaces.fsl.preprocess.BET>\n",
      "230409-22:38:54,77 nipype.workflow INFO:\n",
      "\t [Node] Finished \"flair_bet\", elapsed time 2.180213s.\n"
     ]
    },
    {
     "name": "stderr",
     "output_type": "stream",
     "text": [
      "\r",
      "Cases :  83%|█████████████████████████████▏     | 50/60 [02:56<00:22,  2.29s/it]"
     ]
    },
    {
     "name": "stdout",
     "output_type": "stream",
     "text": [
      "230409-22:38:54,80 nipype.workflow INFO:\n",
      "\t Workflow challenge_BET_workflow settings: ['check', 'execution', 'logging', 'monitoring']\n",
      "230409-22:38:54,84 nipype.workflow INFO:\n",
      "\t Running serially.\n",
      "230409-22:38:54,85 nipype.workflow INFO:\n",
      "\t [Node] Setting-up \"challenge_BET_workflow.flair_bet\" in \"/tmp/tmpiytjikgw/challenge_BET_workflow/flair_bet\".\n",
      "230409-22:38:54,88 nipype.workflow INFO:\n",
      "\t [Node] Executing \"flair_bet\" <nipype.interfaces.fsl.preprocess.BET>\n",
      "230409-22:38:56,293 nipype.workflow INFO:\n",
      "\t [Node] Finished \"flair_bet\", elapsed time 2.204066s.\n"
     ]
    },
    {
     "name": "stderr",
     "output_type": "stream",
     "text": [
      "\r",
      "Cases :  85%|█████████████████████████████▊     | 51/60 [02:58<00:20,  2.27s/it]"
     ]
    },
    {
     "name": "stdout",
     "output_type": "stream",
     "text": [
      "230409-22:38:56,296 nipype.workflow INFO:\n",
      "\t Workflow challenge_BET_workflow settings: ['check', 'execution', 'logging', 'monitoring']\n",
      "230409-22:38:56,299 nipype.workflow INFO:\n",
      "\t Running serially.\n",
      "230409-22:38:56,301 nipype.workflow INFO:\n",
      "\t [Node] Setting-up \"challenge_BET_workflow.flair_bet\" in \"/tmp/tmpvbssiokt/challenge_BET_workflow/flair_bet\".\n",
      "230409-22:38:56,303 nipype.workflow INFO:\n",
      "\t [Node] Executing \"flair_bet\" <nipype.interfaces.fsl.preprocess.BET>\n",
      "230409-22:38:58,507 nipype.workflow INFO:\n",
      "\t [Node] Finished \"flair_bet\", elapsed time 2.202834s.\n"
     ]
    },
    {
     "name": "stderr",
     "output_type": "stream",
     "text": [
      "\r",
      "Cases :  87%|██████████████████████████████▎    | 52/60 [03:01<00:18,  2.25s/it]"
     ]
    },
    {
     "name": "stdout",
     "output_type": "stream",
     "text": [
      "230409-22:38:58,510 nipype.workflow INFO:\n",
      "\t Workflow challenge_BET_workflow settings: ['check', 'execution', 'logging', 'monitoring']\n",
      "230409-22:38:58,514 nipype.workflow INFO:\n",
      "\t Running serially.\n",
      "230409-22:38:58,515 nipype.workflow INFO:\n",
      "\t [Node] Setting-up \"challenge_BET_workflow.flair_bet\" in \"/tmp/tmpoi8x1wid/challenge_BET_workflow/flair_bet\".\n",
      "230409-22:38:58,517 nipype.workflow INFO:\n",
      "\t [Node] Executing \"flair_bet\" <nipype.interfaces.fsl.preprocess.BET>\n",
      "230409-22:39:00,729 nipype.workflow INFO:\n",
      "\t [Node] Finished \"flair_bet\", elapsed time 2.211411s.\n"
     ]
    },
    {
     "name": "stderr",
     "output_type": "stream",
     "text": [
      "\r",
      "Cases :  88%|██████████████████████████████▉    | 53/60 [03:03<00:15,  2.24s/it]"
     ]
    },
    {
     "name": "stdout",
     "output_type": "stream",
     "text": [
      "230409-22:39:00,732 nipype.workflow INFO:\n",
      "\t Workflow challenge_BET_workflow settings: ['check', 'execution', 'logging', 'monitoring']\n",
      "230409-22:39:00,735 nipype.workflow INFO:\n",
      "\t Running serially.\n",
      "230409-22:39:00,736 nipype.workflow INFO:\n",
      "\t [Node] Setting-up \"challenge_BET_workflow.flair_bet\" in \"/tmp/tmp6fbxg6tt/challenge_BET_workflow/flair_bet\".\n",
      "230409-22:39:00,739 nipype.workflow INFO:\n",
      "\t [Node] Executing \"flair_bet\" <nipype.interfaces.fsl.preprocess.BET>\n",
      "230409-22:39:03,702 nipype.workflow INFO:\n",
      "\t [Node] Finished \"flair_bet\", elapsed time 2.961191s.\n"
     ]
    },
    {
     "name": "stderr",
     "output_type": "stream",
     "text": [
      "\r",
      "Cases :  90%|███████████████████████████████▌   | 54/60 [03:06<00:14,  2.46s/it]"
     ]
    },
    {
     "name": "stdout",
     "output_type": "stream",
     "text": [
      "230409-22:39:03,705 nipype.workflow INFO:\n",
      "\t Workflow challenge_BET_workflow settings: ['check', 'execution', 'logging', 'monitoring']\n",
      "230409-22:39:03,709 nipype.workflow INFO:\n",
      "\t Running serially.\n",
      "230409-22:39:03,710 nipype.workflow INFO:\n",
      "\t [Node] Setting-up \"challenge_BET_workflow.flair_bet\" in \"/tmp/tmpg1zsjuvb/challenge_BET_workflow/flair_bet\".\n",
      "230409-22:39:03,712 nipype.workflow INFO:\n",
      "\t [Node] Executing \"flair_bet\" <nipype.interfaces.fsl.preprocess.BET>\n",
      "230409-22:39:05,924 nipype.workflow INFO:\n",
      "\t [Node] Finished \"flair_bet\", elapsed time 2.210768s.\n"
     ]
    },
    {
     "name": "stderr",
     "output_type": "stream",
     "text": [
      "\r",
      "Cases :  92%|████████████████████████████████   | 55/60 [03:08<00:11,  2.39s/it]"
     ]
    },
    {
     "name": "stdout",
     "output_type": "stream",
     "text": [
      "230409-22:39:05,927 nipype.workflow INFO:\n",
      "\t Workflow challenge_BET_workflow settings: ['check', 'execution', 'logging', 'monitoring']\n",
      "230409-22:39:05,931 nipype.workflow INFO:\n",
      "\t Running serially.\n",
      "230409-22:39:05,932 nipype.workflow INFO:\n",
      "\t [Node] Setting-up \"challenge_BET_workflow.flair_bet\" in \"/tmp/tmpxtv143a1/challenge_BET_workflow/flair_bet\".\n",
      "230409-22:39:05,935 nipype.workflow INFO:\n",
      "\t [Node] Executing \"flair_bet\" <nipype.interfaces.fsl.preprocess.BET>\n",
      "230409-22:39:08,149 nipype.workflow INFO:\n",
      "\t [Node] Finished \"flair_bet\", elapsed time 2.21255s.\n"
     ]
    },
    {
     "name": "stderr",
     "output_type": "stream",
     "text": [
      "\r",
      "Cases :  93%|████████████████████████████████▋  | 56/60 [03:10<00:09,  2.34s/it]"
     ]
    },
    {
     "name": "stdout",
     "output_type": "stream",
     "text": [
      "230409-22:39:08,152 nipype.workflow INFO:\n",
      "\t Workflow challenge_BET_workflow settings: ['check', 'execution', 'logging', 'monitoring']\n",
      "230409-22:39:08,155 nipype.workflow INFO:\n",
      "\t Running serially.\n",
      "230409-22:39:08,156 nipype.workflow INFO:\n",
      "\t [Node] Setting-up \"challenge_BET_workflow.flair_bet\" in \"/tmp/tmpc4ohx0au/challenge_BET_workflow/flair_bet\".\n",
      "230409-22:39:08,159 nipype.workflow INFO:\n",
      "\t [Node] Executing \"flair_bet\" <nipype.interfaces.fsl.preprocess.BET>\n",
      "230409-22:39:10,361 nipype.workflow INFO:\n",
      "\t [Node] Finished \"flair_bet\", elapsed time 2.201305s.\n"
     ]
    },
    {
     "name": "stderr",
     "output_type": "stream",
     "text": [
      "\r",
      "Cases :  95%|█████████████████████████████████▎ | 57/60 [03:13<00:06,  2.30s/it]"
     ]
    },
    {
     "name": "stdout",
     "output_type": "stream",
     "text": [
      "230409-22:39:10,364 nipype.workflow INFO:\n",
      "\t Workflow challenge_BET_workflow settings: ['check', 'execution', 'logging', 'monitoring']\n",
      "230409-22:39:10,368 nipype.workflow INFO:\n",
      "\t Running serially.\n",
      "230409-22:39:10,369 nipype.workflow INFO:\n",
      "\t [Node] Setting-up \"challenge_BET_workflow.flair_bet\" in \"/tmp/tmpgcpiwgt_/challenge_BET_workflow/flair_bet\".\n",
      "230409-22:39:10,371 nipype.workflow INFO:\n",
      "\t [Node] Executing \"flair_bet\" <nipype.interfaces.fsl.preprocess.BET>\n",
      "230409-22:39:12,534 nipype.workflow INFO:\n",
      "\t [Node] Finished \"flair_bet\", elapsed time 2.162468s.\n"
     ]
    },
    {
     "name": "stderr",
     "output_type": "stream",
     "text": [
      "\r",
      "Cases :  97%|█████████████████████████████████▊ | 58/60 [03:15<00:04,  2.26s/it]"
     ]
    },
    {
     "name": "stdout",
     "output_type": "stream",
     "text": [
      "230409-22:39:12,537 nipype.workflow INFO:\n",
      "\t Workflow challenge_BET_workflow settings: ['check', 'execution', 'logging', 'monitoring']\n",
      "230409-22:39:12,541 nipype.workflow INFO:\n",
      "\t Running serially.\n",
      "230409-22:39:12,542 nipype.workflow INFO:\n",
      "\t [Node] Setting-up \"challenge_BET_workflow.flair_bet\" in \"/tmp/tmpu7bexfpx/challenge_BET_workflow/flair_bet\".\n",
      "230409-22:39:12,544 nipype.workflow INFO:\n",
      "\t [Node] Executing \"flair_bet\" <nipype.interfaces.fsl.preprocess.BET>\n",
      "230409-22:39:14,741 nipype.workflow INFO:\n",
      "\t [Node] Finished \"flair_bet\", elapsed time 2.195656s.\n"
     ]
    },
    {
     "name": "stderr",
     "output_type": "stream",
     "text": [
      "\r",
      "Cases :  98%|██████████████████████████████████▍| 59/60 [03:17<00:02,  2.25s/it]"
     ]
    },
    {
     "name": "stdout",
     "output_type": "stream",
     "text": [
      "230409-22:39:14,744 nipype.workflow INFO:\n",
      "\t Workflow challenge_BET_workflow settings: ['check', 'execution', 'logging', 'monitoring']\n",
      "230409-22:39:14,747 nipype.workflow INFO:\n",
      "\t Running serially.\n",
      "230409-22:39:14,748 nipype.workflow INFO:\n",
      "\t [Node] Setting-up \"challenge_BET_workflow.flair_bet\" in \"/tmp/tmpz5_5hv19/challenge_BET_workflow/flair_bet\".\n",
      "230409-22:39:14,751 nipype.workflow INFO:\n",
      "\t [Node] Executing \"flair_bet\" <nipype.interfaces.fsl.preprocess.BET>\n",
      "230409-22:39:16,968 nipype.workflow INFO:\n",
      "\t [Node] Finished \"flair_bet\", elapsed time 2.216021s.\n"
     ]
    },
    {
     "name": "stderr",
     "output_type": "stream",
     "text": [
      "Cases : 100%|███████████████████████████████████| 60/60 [03:19<00:00,  3.33s/it]"
     ]
    },
    {
     "name": "stdout",
     "output_type": "stream",
     "text": [
      "CPU times: user 4.48 s, sys: 1.04 s, total: 5.52 s\n",
      "Wall time: 3min 19s\n"
     ]
    },
    {
     "name": "stderr",
     "output_type": "stream",
     "text": [
      "\n"
     ]
    }
   ],
   "source": [
    "%%time\n",
    "\n",
    "import nipype.pipeline.engine as pe\n",
    "import nipype.interfaces.utility as util\n",
    "import nipype.interfaces.fsl as fsl\n",
    "from tqdm import tqdm\n",
    "\n",
    "# Define the workflow\n",
    "workflow = pe.Workflow(name='challenge_BET_workflow')\n",
    "\n",
    "# Define the input and output nodes\n",
    "input_node = pe.Node(interface=util.IdentityInterface(fields=['flair_nii']), name='input_node')\n",
    "output_node = pe.Node(interface=util.IdentityInterface(fields=['flair_brain', 'flair_mask']), name='output_node')\n",
    "\n",
    "############ FSL BET #####################################################################################################\n",
    "# Skull-stripping using BET for FLAIR image\n",
    "flair_bet = pe.Node(interface=fsl.BET(), name='flair_bet')\n",
    "flair_bet.inputs.mask = True  # generate brain mask\n",
    "flair_bet.inputs.frac = 0.5  # set the fractional intensity threshold\n",
    "flair_bet.inputs.robust = True  # use robust brain centre estimation\n",
    "flair_bet.inputs.output_type = 'NIFTI'\n",
    "\n",
    "workflow.connect(input_node, 'flair_nii', flair_bet, 'in_file')\n",
    "workflow.connect(flair_bet, 'out_file', output_node, 'flair_brain')\n",
    "workflow.connect(flair_bet, 'mask_file', output_node, 'flair_mask')\n",
    "\n",
    "# running the workflow for list of directories\n",
    "for file in tqdm(input_files, \"Cases : \"):\n",
    "    input_node.inputs.flair_nii = file\n",
    "    flair_bet.inputs.out_file = os.path.join(file.split('FLAIR')[0], 'FLAIR_bet.nii')\n",
    "    \n",
    "    workflow.run()"
   ]
  },
  {
   "cell_type": "code",
   "execution_count": 38,
   "id": "c5057dd9",
   "metadata": {},
   "outputs": [],
   "source": [
    "import nibabel as nib\n",
    "import numpy as np\n",
    "from scipy.ndimage import binary_fill_holes"
   ]
  },
  {
   "cell_type": "code",
   "execution_count": 43,
   "id": "ce451424",
   "metadata": {},
   "outputs": [
    {
     "data": {
      "text/plain": [
       "'/home/msc2/Documents/Data/WMH_Dataset/public/Singapore/Singapore/56/pre/'"
      ]
     },
     "execution_count": 43,
     "metadata": {},
     "output_type": "execute_result"
    }
   ],
   "source": [
    "input_dirs = [root for root,_,_ in os.walk('/home/msc2/Documents/Data/WMH_Dataset/') if 'pre' in root]\n",
    "input_files = []\n",
    "for in_dir in input_dirs:\n",
    "    input_files.append([os.path.join(in_dir, file) for file in os.listdir(in_dir) if 'FLAIR_bet_mask' in file])\n",
    "input_files = [file for sublist in input_files for file in sublist]\n",
    "input_files[0].split('FLAIR')[0]"
   ]
  },
  {
   "cell_type": "markdown",
   "id": "74901cdf",
   "metadata": {},
   "source": [
    "Also, sometimes the FSL BET leaves gap between the brain tissues. Therefore, we use the binary_fill_holes from scipy to fill such holes."
   ]
  },
  {
   "cell_type": "code",
   "execution_count": 51,
   "id": "e2427ba1",
   "metadata": {
    "scrolled": true
   },
   "outputs": [
    {
     "name": "stderr",
     "output_type": "stream",
     "text": [
      "100%|███████████████████████████████████████████| 60/60 [00:15<00:00,  3.91it/s]"
     ]
    },
    {
     "name": "stdout",
     "output_type": "stream",
     "text": [
      "CPU times: user 6.98 s, sys: 2.25 s, total: 9.24 s\n",
      "Wall time: 15.3 s\n"
     ]
    },
    {
     "name": "stderr",
     "output_type": "stream",
     "text": [
      "\n"
     ]
    }
   ],
   "source": [
    "%%time\n",
    "\n",
    "for folder in tqdm(input_files):\n",
    "    file_path = folder.split('FLAIR')[0]\n",
    "    \n",
    "    # loading bet mask, flairn4 and t1reg\n",
    "    nii       = nib.load(os.path.join(file_path, 'FLAIR_bet_mask.nii'))\n",
    "    t1        = nib.load(os.path.join(file_path, 'T1.nii'))\n",
    "    flair     = nib.load(os.path.join(file_path, 'FLAIR.nii'))\n",
    "\n",
    "    img       = nii.get_fdata().astype(bool)\n",
    "    t1_img    = t1.get_fdata()\n",
    "    flair_img = flair.get_fdata()\n",
    "    \n",
    "    # creating a zero mask\n",
    "    mask      = np.zeros_like(img, dtype=np.int8)\n",
    "    \n",
    "    # looping through the slices\n",
    "    for i in range(img.shape[2]):\n",
    "        mask[:,:,i] = binary_fill_holes(img[:,:,i])\n",
    "        \n",
    "    t1_bet    = t1_img * mask\n",
    "    flair_bet = flair_img * mask\n",
    "        \n",
    "    t1_nii    = nib.Nifti1Image(t1_bet, t1.affine)\n",
    "    flair_nii = nib.Nifti1Image(flair_bet, flair.affine)\n",
    "    nib.save(t1_nii,    os.path.join(file_path,    'T1_final.nii')) \n",
    "    nib.save(flair_nii, os.path.join(file_path, 'FLAIR_final.nii'))"
   ]
  },
  {
   "cell_type": "markdown",
   "id": "a39b4758",
   "metadata": {},
   "source": [
    "## The End"
   ]
  }
 ],
 "metadata": {
  "kernelspec": {
   "display_name": "Python 3 (ipykernel)",
   "language": "python",
   "name": "python3"
  },
  "language_info": {
   "codemirror_mode": {
    "name": "ipython",
    "version": 3
   },
   "file_extension": ".py",
   "mimetype": "text/x-python",
   "name": "python",
   "nbconvert_exporter": "python",
   "pygments_lexer": "ipython3",
   "version": "3.8.10"
  }
 },
 "nbformat": 4,
 "nbformat_minor": 5
}
